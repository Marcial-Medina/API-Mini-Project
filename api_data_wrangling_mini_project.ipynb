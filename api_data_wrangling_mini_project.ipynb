{
 "cells": [
  {
   "cell_type": "markdown",
   "metadata": {},
   "source": [
    "This exercise will require you to pull some data from the Qunadl API. Qaundl is currently the most widely used aggregator of financial market data."
   ]
  },
  {
   "cell_type": "markdown",
   "metadata": {},
   "source": [
    "As a first step, you will need to register a free account on the http://www.quandl.com website."
   ]
  },
  {
   "cell_type": "markdown",
   "metadata": {},
   "source": [
    "After you register, you will be provided with a unique API key, that you should store:"
   ]
  },
  {
   "cell_type": "code",
   "execution_count": 1,
   "metadata": {},
   "outputs": [],
   "source": [
    "# Store the API key as a string - according to PEP8, constants are always named in all upper case\n",
    "API_KEY = '...'"
   ]
  },
  {
   "cell_type": "markdown",
   "metadata": {},
   "source": [
    "Qaundl has a large number of data sources, but, unfortunately, most of them require a Premium subscription. Still, there are also a good number of free datasets."
   ]
  },
  {
   "cell_type": "markdown",
   "metadata": {},
   "source": [
    "For this mini project, we will focus on equities data from the Frankfurt Stock Exhange (FSE), which is available for free. We'll try and analyze the stock prices of a company called Carl Zeiss Meditec, which manufactures tools for eye examinations, as well as medical lasers for laser eye surgery: https://www.zeiss.com/meditec/int/home.html. The company is listed under the stock ticker AFX_X."
   ]
  },
  {
   "cell_type": "markdown",
   "metadata": {},
   "source": [
    "You can find the detailed Quandl API instructions here: https://docs.quandl.com/docs/time-series"
   ]
  },
  {
   "cell_type": "markdown",
   "metadata": {},
   "source": [
    "While there is a dedicated Python package for connecting to the Quandl API, we would prefer that you use the *requests* package, which can be easily downloaded using *pip* or *conda*. You can find the documentation for the package here: http://docs.python-requests.org/en/master/ "
   ]
  },
  {
   "cell_type": "markdown",
   "metadata": {},
   "source": [
    "Finally, apart from the *requests* package, you are encouraged to not use any third party Python packages, such as *pandas*, and instead focus on what's available in the Python Standard Library (the *collections* module might come in handy: https://pymotw.com/3/collections/ ).\n",
    "Also, since you won't have access to DataFrames, you are encouraged to us Python's native data structures - preferably dictionaries, though some questions can also be answered using lists.\n",
    "You can read more on these data structures here: https://docs.python.org/3/tutorial/datastructures.html"
   ]
  },
  {
   "cell_type": "markdown",
   "metadata": {},
   "source": [
    "Keep in mind that the JSON responses you will be getting from the API map almost one-to-one to Python's dictionaries. Unfortunately, they can be very nested, so make sure you read up on indexing dictionaries in the documentation provided above."
   ]
  },
  {
   "cell_type": "code",
   "execution_count": 2,
   "metadata": {},
   "outputs": [],
   "source": [
    "# First, import the relevant modules\n",
    "import requests\n",
    "import json"
   ]
  },
  {
   "cell_type": "code",
   "execution_count": 3,
   "metadata": {},
   "outputs": [],
   "source": [
    "# Now, call the Quandl API and pull out a small sample of the data (only one day) to get a glimpse\n",
    "# into the JSON structure that will be returned\n",
    "url = 'https://www.quandl.com/api/v3/datasets/XFRA/ADS.json?limit=1&collapse=daily&order=desc&api_key=...'\n",
    "res = requests.get(url)"
   ]
  },
  {
   "cell_type": "code",
   "execution_count": 4,
   "metadata": {},
   "outputs": [
    {
     "name": "stdout",
     "output_type": "stream",
     "text": [
      "{'dataset': {'id': 46112467, 'dataset_code': 'ADS', 'database_code': 'XFRA', 'name': 'Adidas AG (ADS) Adjusted Stock Prices', 'description': ' <b>Ticker</b>: ADS <br> <br> <b>Exchange</b>: XFRA <br> <br> Columns: <br> <br> Open,High,Low,Close,Volume are adjusted and shown in EUR currency. <br> <br> Adjustment Factor shows the factor by which prices are adjusted on days which adjustments take place <br> <br> Adjustment Type is a number representing the type of adjustment. Refer to documentation for more information on these codes.', 'refreshed_at': '2021-04-06T04:05:00.456Z', 'newest_available_date': '2018-11-30', 'oldest_available_date': '2007-01-02', 'column_names': ['Date', 'Open', 'High', 'Low', 'Close', 'Volume', 'Adjustment Factor', 'Adjustment Type'], 'frequency': 'daily', 'type': 'Time Series', 'premium': True, 'limit': 1, 'transform': None, 'column_index': None, 'start_date': '2007-01-02', 'end_date': '2018-11-30', 'data': [['2018-11-30', 195.453927, 195.552592, 190.718042, 192.592663, 2702.0, None, None]], 'collapse': 'daily', 'order': 'desc', 'database_id': 15302}}\n"
     ]
    }
   ],
   "source": [
    "# Inspect the JSON structure of the object you created, and take note of how nested it is,\n",
    "# as well as the overall structure\n",
    "json_data = res.json()\n",
    "print(json_data)"
   ]
  },
  {
   "cell_type": "markdown",
   "metadata": {},
   "source": [
    "These are your tasks for this mini project:\n",
    "\n",
    "1. Collect data from the Franfurt Stock Exchange, for the ticker AFX_X, for the whole year 2017 (keep in mind that the date format is YYYY-MM-DD).\n",
    "2. Convert the returned JSON object into a Python dictionary.\n",
    "3. Calculate what the highest and lowest opening prices were for the stock in this period.\n",
    "4. What was the largest change in any one day (based on High and Low price)?\n",
    "5. What was the largest change between any two days (based on Closing Price)?\n",
    "6. What was the average daily trading volume during this year?\n",
    "7. (Optional) What was the median trading volume during this year. (Note: you may need to implement your own function for calculating the median.)"
   ]
  },
  {
   "cell_type": "code",
   "execution_count": 5,
   "metadata": {},
   "outputs": [],
   "source": [
    "#this data is for the ticker ADS since the data for AFX_X is no longer available for free\n",
    "#pulling data from Quandl\n",
    "url = 'https://www.quandl.com/api/v3/datasets/XFRA/ADS.json?start_date=2017-01-02&end_date=2017-12-30&collapse=daily&order=desc&api_key=LXxXG-bDmBqt6G6nY9Ek'\n",
    "res = requests.get(url)\n",
    "json_data = res.json()\n",
    "ADS_2017 = json_data['dataset']['data'] #data from FSE for the ticker ADS for the whole year 2017 (2017-01-02 to 2017-12-39)"
   ]
  },
  {
   "cell_type": "code",
   "execution_count": 6,
   "metadata": {},
   "outputs": [],
   "source": [
    "#creates a list of all opening prices for every day for the year 2017\n",
    "opening_prices = []\n",
    "for day in ADS_2017:\n",
    "    opening_prices.append(day[1])"
   ]
  },
  {
   "cell_type": "code",
   "execution_count": 7,
   "metadata": {},
   "outputs": [
    {
     "name": "stdout",
     "output_type": "stream",
     "text": [
      "The highest opening price for 2017 was 193.968141 and the lowest price was 138.775637\n"
     ]
    }
   ],
   "source": [
    "#calculates the highest and lowest opening prices for the year 2017\n",
    "highest_opening_price = max(opening_prices)\n",
    "lowest_opening_price = min(opening_prices)\n",
    "print('The highest opening price for 2017 was', highest_opening_price, 'and the lowest price was', lowest_opening_price)"
   ]
  },
  {
   "cell_type": "code",
   "execution_count": 8,
   "metadata": {},
   "outputs": [],
   "source": [
    "#creates a list of the differences between the high and low prices for each day for the year 2017\n",
    "high_low_differences = []\n",
    "for day in ADS_2017:\n",
    "    high_low_differences.append(day[2]-day[3])"
   ]
  },
  {
   "cell_type": "code",
   "execution_count": 9,
   "metadata": {},
   "outputs": [
    {
     "name": "stdout",
     "output_type": "stream",
     "text": [
      "The largest change between high and low prices in any one day in 2017 was 11.081390999999996 and the smallest change was 0.0\n"
     ]
    }
   ],
   "source": [
    "#calculates the largest change between high and low prices in any one day in the year 2017\n",
    "largest_high_low_change = max(high_low_differences)\n",
    "smallest_high_low_change = min(high_low_differences)\n",
    "print('The largest change between high and low prices in any one day in 2017 was', largest_high_low_change, 'and the smallest change was', smallest_high_low_change)"
   ]
  },
  {
   "cell_type": "code",
   "execution_count": 10,
   "metadata": {},
   "outputs": [],
   "source": [
    "#creates a list of the changes in closing prices between any two days in the year 2017\n",
    "closing_price_changes = []\n",
    "for day in range(len(ADS_2017)):\n",
    "    if ADS_2017[day][4] != ADS_2017[-1][4]:\n",
    "        closing_price_changes.append(ADS_2017[day+1][4]-ADS_2017[day][4])"
   ]
  },
  {
   "cell_type": "code",
   "execution_count": 11,
   "metadata": {},
   "outputs": [
    {
     "name": "stdout",
     "output_type": "stream",
     "text": [
      "The largest change in closing prices between any two days in the year 2017 was 8.475035999999989\n"
     ]
    }
   ],
   "source": [
    "#calculates the largest change in closing prices between any two days in the year 2017\n",
    "largest_closing_change = max(closing_price_changes)\n",
    "print('The largest change in closing prices between any two days in the year 2017 was', largest_closing_change)"
   ]
  },
  {
   "cell_type": "code",
   "execution_count": 12,
   "metadata": {},
   "outputs": [],
   "source": [
    "#creates a list of the daily trading volumes in the year 2017\n",
    "trading_volume_values = []\n",
    "for day in ADS_2017:\n",
    "    trading_volume_values.append(day[5])"
   ]
  },
  {
   "cell_type": "code",
   "execution_count": 13,
   "metadata": {},
   "outputs": [
    {
     "name": "stdout",
     "output_type": "stream",
     "text": [
      "The average of the daily trading volumes in the year 2017 was 1638.323076923077\n"
     ]
    }
   ],
   "source": [
    "#calculates the average of the daily trading volumes in the year 2017\n",
    "average_volume = sum(trading_volume_values)/len(trading_volume_values)\n",
    "print('The average of the daily trading volumes in the year 2017 was', average_volume)"
   ]
  },
  {
   "cell_type": "code",
   "execution_count": 14,
   "metadata": {},
   "outputs": [
    {
     "name": "stdout",
     "output_type": "stream",
     "text": [
      "The median of the daily trading volumes in the year 2017 was 1164.0\n"
     ]
    }
   ],
   "source": [
    "#calculates the median of the daily trading volumes in the year 2017\n",
    "volumes = sorted(trading_volume_values)\n",
    "volumes_len = len(volumes)\n",
    "#print(volumes, volumes_len, volume_lens//2)\n",
    "if volumes_len % 2 == 0:\n",
    "    median = (volumes[volumes_len//2+1]+volumes[volumes_len//2])/2\n",
    "else:\n",
    "    median = volumes[volumes_len//2+1]\n",
    "print('The median of the daily trading volumes in the year 2017 was', median)\n"
   ]
  }
 ],
 "metadata": {
  "kernelspec": {
   "display_name": "Python 3",
   "language": "python",
   "name": "python3"
  },
  "language_info": {
   "codemirror_mode": {
    "name": "ipython",
    "version": 3
   },
   "file_extension": ".py",
   "mimetype": "text/x-python",
   "name": "python",
   "nbconvert_exporter": "python",
   "pygments_lexer": "ipython3",
   "version": "3.8.5"
  }
 },
 "nbformat": 4,
 "nbformat_minor": 4
}
